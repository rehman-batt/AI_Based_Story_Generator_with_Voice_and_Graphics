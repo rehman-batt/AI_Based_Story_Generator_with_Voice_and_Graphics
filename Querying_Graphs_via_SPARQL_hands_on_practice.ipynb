{
  "nbformat": 4,
  "nbformat_minor": 0,
  "metadata": {
    "colab": {
      "provenance": [],
      "include_colab_link": true
    },
    "kernelspec": {
      "name": "python3",
      "display_name": "Python 3"
    },
    "language_info": {
      "name": "python"
    }
  },
  "cells": [
    {
      "cell_type": "markdown",
      "metadata": {
        "id": "view-in-github",
        "colab_type": "text"
      },
      "source": [
        "<a href=\"https://colab.research.google.com/github/rehman-batt/AI_Based_Story_Generator_with_Voice_and_Graphics/blob/main/Querying_Graphs_via_SPARQL_hands_on_practice.ipynb\" target=\"_parent\"><img src=\"https://colab.research.google.com/assets/colab-badge.svg\" alt=\"Open In Colab\"/></a>"
      ]
    },
    {
      "cell_type": "markdown",
      "source": [
        "**SPARQL via Python**"
      ],
      "metadata": {
        "id": "Riw-ccSOwH9x"
      }
    },
    {
      "cell_type": "code",
      "execution_count": null,
      "metadata": {
        "id": "yXHt7-XQhc_o"
      },
      "outputs": [],
      "source": [
        "pip install rdflib"
      ]
    },
    {
      "cell_type": "markdown",
      "source": [
        "**SPARQLWrapper: a python wrapper around a SPARQL service.**\n",
        "\n",
        "\n",
        "– Installation: https://pypi.org/project/SPARQLWrapper/\n",
        "\n",
        "\n",
        "– Documentation and examples: https://github.com/RDFLib/sparqlwrapper/"
      ],
      "metadata": {
        "id": "UyciMFJRhizQ"
      }
    },
    {
      "cell_type": "code",
      "source": [
        "pip install SPARQLWrapper"
      ],
      "metadata": {
        "id": "nAmTBDM3hd19"
      },
      "execution_count": null,
      "outputs": []
    },
    {
      "cell_type": "markdown",
      "source": [
        "**Owlready: a package for ontology-oriented programming in Python.**\n",
        "\n",
        "\n",
        "– Installation: https://pypi.org/project/Owlready2/\n",
        "\n",
        " – Documentation: https://owlready2.readthedocs.io/en/latest/intro.html"
      ],
      "metadata": {
        "id": "Att4DQtwhspQ"
      }
    },
    {
      "cell_type": "code",
      "source": [
        "pip install owlready2"
      ],
      "metadata": {
        "id": "2iIPKZUlhq42"
      },
      "execution_count": null,
      "outputs": []
    },
    {
      "cell_type": "markdown",
      "source": [
        "**Connection to Google Drive( Google Colab)**"
      ],
      "metadata": {
        "id": "6ZmE5IJButxc"
      }
    },
    {
      "cell_type": "code",
      "source": [
        "from google.colab import drive\n",
        "drive.mount('/content/drive',force_remount=True)"
      ],
      "metadata": {
        "id": "lN5bSJORh8ME"
      },
      "execution_count": null,
      "outputs": []
    },
    {
      "cell_type": "markdown",
      "source": [
        "**Querying RDF-based Knowledge Graphs via SPARQL**"
      ],
      "metadata": {
        "id": "VIM7CICciN7-"
      }
    },
    {
      "cell_type": "markdown",
      "source": [
        "Use the [playground.ttl](https://drive.google.com/file/d/1phOThrcnyi4fKn5m0TUo0zMDk3jdjBE5/view?usp=sharing) dataset, and the method queryLocalRDFGraph() from the Sample Code below as examples.\n",
        "\n",
        "**Sample Code: Query A Local Graph**"
      ],
      "metadata": {
        "id": "QfYBoDFiiYSk"
      }
    },
    {
      "cell_type": "code",
      "source": [
        "from rdflib import Graph\n",
        "\n",
        "def queryLocalGraph():\n",
        "\n",
        "    #Example from  https://www.stardog.com/tutorials/data-model/\n",
        "\n",
        "    g = Graph()\n",
        "    g.parse(\"/content/drive/MyDrive/playground.ttl\", format=\"ttl\")\n",
        "\n",
        "\n",
        "\n",
        "    print(\"Loaded '\" + str(len(g)) + \"' triples.\")\n",
        "\n",
        "    #for s, p, o in g:\n",
        "    #    print((s.n3(), p.n3(), o.n3()))\n",
        "\n",
        "\n",
        "    print(\"Females:\")\n",
        "\n",
        "    qres = g.query(\n",
        "    \"\"\"SELECT ?thing ?name where {\n",
        "      ?thing tto:sex \"female\" .\n",
        "      ?thing dbp:name ?name .\n",
        "    }\"\"\")\n",
        "\n",
        "    for row in qres:\n",
        "        #Row is a list of matched RDF terms: URIs, literals or blank nodes\n",
        "        print(\"%s is female with name '%s'\" % (str(row.thing),str(row.name)))\n",
        "\n",
        "\n",
        "queryLocalGraph()"
      ],
      "metadata": {
        "id": "vqcGF2nPiRFh"
      },
      "execution_count": null,
      "outputs": []
    },
    {
      "cell_type": "markdown",
      "source": [
        "**Task 1**\n",
        "\n",
        "Load the [beatles.ttl](https://drive.google.com/file/d/1zOYYo9hy2A2FVyROW2D5Icqg7qtrJWeV/view?usp=sharing) dataset\n",
        "\n",
        "1.   Query the local graph to find:\n",
        "      1. the name and songs of all the solo artists\n",
        "      2. the writer of the song *love_Me_Do*\n",
        "      3. Print the total triples\n",
        "\n",
        "      \n",
        "\n"
      ],
      "metadata": {
        "id": "oCwE0xLNpLw4"
      }
    },
    {
      "cell_type": "code",
      "source": [
        "#Task 1\n",
        "#Explain each step you perform\n",
        "\n",
        "#Query to get the name and songs of all the solo artists\n",
        "\n",
        "\n",
        "\n",
        "#Query to get the writer of the song Love me Do\n",
        "\n",
        "\n",
        "#printing total triples in graph\n",
        "\n",
        "\n",
        "\n"
      ],
      "metadata": {
        "id": "6v1DDyxGqdpU"
      },
      "execution_count": null,
      "outputs": []
    },
    {
      "cell_type": "markdown",
      "source": [
        "**Sample Code: Query A remote Graph**"
      ],
      "metadata": {
        "id": "hjvLxS4EqnrV"
      }
    },
    {
      "cell_type": "code",
      "source": [
        "from SPARQLWrapper import SPARQLWrapper, JSON, XML\n",
        "from pprint import pprint\n",
        "import time\n",
        "\n",
        "\n",
        "\n",
        "def queryRemoteGraph(endpoint_url, query, attempts=3):\n",
        "\n",
        "\n",
        "    try:\n",
        "\n",
        "        sparql_web = SPARQLWrapper(endpoint_url)\n",
        "        # Default is XML:\n",
        "        # https://sparqlwrapper.readthedocs.io/en/latest/SPARQLWrapper.Wrapper.html\n",
        "        sparql_web.setReturnFormat(JSON)\n",
        "\n",
        "        sparql_web.setQuery(query)\n",
        "\n",
        "        results = sparql_web.query().convert()\n",
        "        ret = sparql_web.queryAndConvert()\n",
        "        for r in ret[\"results\"][\"bindings\"]:\n",
        "         print(r)\n",
        "\n",
        "      #  Prints JSON file\n",
        "        print(\"RAW RESULTS IN JSON FORMAT:\")\n",
        "        print(results)\n",
        "\n",
        "\n",
        "        print(\"\\nRESULTS:\")\n",
        "        for result in results[\"results\"][\"bindings\"]:\n",
        "\n",
        "            #Prints individual results\n",
        "            print(result[\"name_laur\"][\"value\"])\n",
        "\n",
        "\n",
        "\n",
        "\n",
        "    except:\n",
        "\n",
        "        print(\"Query '%s' failed. Attempts: %s\" % (query, str(attempts)))\n",
        "        #time.sleep(60) #to avoid limit of calls, sleep 60s\n",
        "        attempts-=1\n",
        "        if attempts>0:\n",
        "            return queryRemoteGraph(endpoint_url, query, attempts)\n",
        "        else:\n",
        "            return None\n",
        "\n",
        "\n",
        "\n",
        "#See more examples here: https://www.nobelprize.org/about/linked-data-examples/\n",
        "nobelprize_endpoint = \"http://data.nobelprize.org/sparql\"\n",
        "nobelprize_query = \"\"\"\n",
        "    SELECT DISTINCT ?name_laur WHERE {\n",
        "    ?laur <http://www.w3.org/1999/02/22-rdf-syntax-ns#type> <http://data.nobelprize.org/terms/Laureate> .\n",
        "    ?laur <http://www.w3.org/2000/01/rdf-schema#label> ?name_laur .\n",
        "    ?laur <http://xmlns.com/foaf/0.1/gender> \"female\" . }\n",
        "    \"\"\"\n",
        "#Same query with prefixes\n",
        "nobelprize_query = \"\"\"\n",
        "    PREFIX nobel: <http://data.nobelprize.org/terms/>\n",
        "    PREFIX foaf: <http://xmlns.com/foaf/0.1/>\n",
        "    PREFIX rdfs: <http://www.w3.org/2000/01/rdf-schema#>\n",
        "    PREFIX rdf: <http://www.w3.org/1999/02/22-rdf-syntax-ns#>\n",
        "    SELECT DISTINCT ?name_laur WHERE {\n",
        "    ?laur rdf:type nobel:Laureate .\n",
        "    ?laur rdfs:label ?name_laur .\n",
        "    ?laur foaf:gender \"female\" . }\n",
        "    \"\"\"\n",
        "\n",
        "\n",
        "\n",
        "print(\"\\nQuerying Nobel Prize Knowledge Graph (Female laureates):\")\n",
        "queryRemoteGraph(nobelprize_endpoint, nobelprize_query)\n"
      ],
      "metadata": {
        "id": "ebzA_rBZikOq"
      },
      "execution_count": null,
      "outputs": []
    },
    {
      "cell_type": "code",
      "source": [
        "from SPARQLWrapper import SPARQLWrapper, JSON\n",
        "\n",
        "sparql = SPARQLWrapper(\n",
        "    \"http://data.nobelprize.org/sparql\"\n",
        ")\n",
        "\n",
        "\n",
        "# gets the first 3 geological ages\n",
        "# from a Geological Timescale database,\n",
        "# via a SPARQL endpoint\n",
        "sparql.setQuery(\"\"\"\n",
        "    PREFIX nobel: <http://data.nobelprize.org/terms/>\n",
        "    PREFIX foaf: <http://xmlns.com/foaf/0.1/>\n",
        "    PREFIX rdfs: <http://www.w3.org/2000/01/rdf-schema#>\n",
        "    PREFIX rdf: <http://www.w3.org/1999/02/22-rdf-syntax-ns#>\n",
        "    SELECT DISTINCT ?laur WHERE {\n",
        "    ?laur rdf:type nobel:Laureate .\n",
        "     }\n",
        "    \"\"\"\n",
        ")\n",
        "\n",
        "sparql.setReturnFormat(JSON)\n",
        "\n",
        "\n",
        "results = sparql.query().convert()\n",
        "ret = sparql.queryAndConvert()\n",
        "print(ret)"
      ],
      "metadata": {
        "id": "6MeUmzA-ru9v"
      },
      "execution_count": null,
      "outputs": []
    },
    {
      "cell_type": "markdown",
      "source": [
        "**Task 2**\n",
        "\n",
        "Query the same remote graph for the nobel dataset to find:\n",
        "\n",
        "1.  List the names of all persons who won the Nobel Prize in Chemistry (hint: the full name of a Nobel Prize laureate can be accessed using the foaf:name property).\n",
        "\n",
        "2. For all Nobel Prize laureates from the year 2000 [Prize Winners in the year 2000], list their name, date of birth, and date of death if the person has passed away (hint: use an OPTIONAL clause in your query).\n",
        "\n",
        "3. What is the birth year of persons who won the Nobel Prize in Chemistry? (hint: to obtain the birth year as a query variable you may use a BIND clause with the year function).\n",
        "\n",
        "4. For every Nobel Prize category, what is the average age of persons who won the Nobel Prize in the category?\n",
        "\n",
        "5. Who won the Nobel Prize in Chemistry in 1911?\n",
        "\n",
        "\n"
      ],
      "metadata": {
        "id": "vaqnaPuNrf_k"
      }
    },
    {
      "cell_type": "code",
      "source": [
        "#Task 2\n",
        "#Query 1\n",
        "\n",
        "\n",
        "\n",
        "\n",
        "\n",
        "#Query 2\n",
        "\n",
        "\n",
        "\n",
        "\n",
        "\n",
        "#Query 3\n",
        "\n",
        "\n",
        "\n",
        "\n",
        "\n",
        "#Query 4\n",
        "\n",
        "\n",
        "\n",
        "\n",
        "\n",
        "#Query 5"
      ],
      "metadata": {
        "id": "Ay1Rjc3ukWiG"
      },
      "execution_count": null,
      "outputs": []
    },
    {
      "cell_type": "markdown",
      "source": [
        "**DBPedia Knowledge Graph**\n",
        "\n",
        "These are some example queries about “Emma Watson”. These queries are based on the DBpedia Knowledge Graph, a RDF version of Wikipedia (https://dbpedia.org/), and can be tested via its SPARQL Endpoint (http://dbpedia.org/sparql).\n",
        "\n",
        "SPARQL Examples\n",
        "Example (i)\n",
        "Films starring people called “Emma Watson”\n",
        "PREFIX foaf: http://xmlns.com/foaf/0.1/\n",
        "\n",
        "PREFIX dbo: http://dbpedia.org/ontology/\n",
        "\n",
        "SELECT ?m\n",
        "\n",
        "WHERE\n",
        "\n",
        "{\n",
        "\n",
        "    ?jd foaf:name \"Emma Watson\"@en .\n",
        "    ?m dbo:starring ?jd .\n",
        "}\n",
        "\n",
        "Example (ii)\n",
        "\n",
        "Names of people who co-starred with “Emma Watson”\n",
        "SELECT DISTINCT ?costar\n",
        "\n",
        "WHERE\n",
        "\n",
        "{\n",
        "\n",
        "    ?jd foaf:name \"Emma Watson\"@en .\n",
        "    ?m dbo:starring ?jd .\n",
        "    ?m dbo:starring ?other .\n",
        "    ?other foaf:name ?costar .\n",
        "\n",
        "}\n",
        "\n"
      ],
      "metadata": {
        "id": "ehTLvrgysaUK"
      }
    },
    {
      "cell_type": "markdown",
      "source": [
        "**Task 3**\n",
        "Try these queries using the DBPedia Endpoint programmatically"
      ],
      "metadata": {
        "id": "dDj38ArCt7PE"
      }
    },
    {
      "cell_type": "code",
      "source": [
        "#Your code for Task 3\n",
        "\n",
        "\n",
        "\n",
        "# Query 1\n",
        "\n",
        "\n",
        "# Query 2"
      ],
      "metadata": {
        "id": "h1TXqIOKsOyn"
      },
      "execution_count": null,
      "outputs": []
    },
    {
      "cell_type": "markdown",
      "source": [
        "**Submission Guidelines**\n",
        "\n",
        "\n",
        "\n",
        "1.   Name your python notebook Section_RollNumber_YourName\n",
        "2.   You should only submit a single ipynb file\n",
        "\n",
        "**All the best! ⚡**\n",
        "\n"
      ],
      "metadata": {
        "id": "fCs783QgvOfh"
      }
    }
  ]
}